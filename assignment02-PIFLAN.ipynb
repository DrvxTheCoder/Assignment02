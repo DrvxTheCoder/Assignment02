{
 "cells": [
  {
   "attachments": {},
   "cell_type": "markdown",
   "metadata": {},
   "source": [
    "## Assignment 02 - Paul Ismael Flan"
   ]
  },
  {
   "attachments": {},
   "cell_type": "markdown",
   "metadata": {},
   "source": [
    " * **Exercice 1 :** Écrire une fonction qui prend une chaîne de caractères en entrée et renvoie une fonction qui ajoute un préfixe spécifique à la chaîne d'origine. Par exemple, si la chaîne d'entrée est \"Hello\", la fonction renvoyée doit prendre une chaîne et renvoyer \"Hello \" + la chaîne."
   ]
  },
  {
   "cell_type": "code",
   "execution_count": 1,
   "metadata": {},
   "outputs": [
    {
     "name": "stdout",
     "output_type": "stream",
     "text": [
      "Hello world\n"
     ]
    },
    {
     "data": {
      "text/plain": [
       "defined \u001b[32mfunction\u001b[39m \u001b[36maddPrefix\u001b[39m\r\n",
       "\u001b[36maddHelloPrefix\u001b[39m: \u001b[32mString\u001b[39m => \u001b[32mString\u001b[39m = ammonite.$sess.cmd0$Helper$$Lambda$2046/0x00000008017985f0@421cca17"
      ]
     },
     "execution_count": 1,
     "metadata": {},
     "output_type": "execute_result"
    }
   ],
   "source": [
    "//Exo-1 Reponses\n",
    "\n",
    "def addPrefix(prefix: String): String => String = {\n",
    "  str => s\"$prefix$str\"\n",
    "}\n",
    "\n",
    "val addHelloPrefix = addPrefix(\"Hello \")\n",
    "println(addHelloPrefix(\"world\")) // affiche \"Hello world\"\n",
    "\n"
   ]
  },
  {
   "attachments": {},
   "cell_type": "markdown",
   "metadata": {},
   "source": [
    "\n",
    "* **Exercice 2 :**\n",
    "Écrire une fonction qui prend une liste d'entiers et renvoie une fonction qui prend un entier et renvoie vrai si l'entier est dans la liste et faux sinon. Utilisez une clôture (ou la fermeture) pour stocker la liste d'entiers."
   ]
  },
  {
   "cell_type": "code",
   "execution_count": 2,
   "metadata": {},
   "outputs": [
    {
     "name": "stdout",
     "output_type": "stream",
     "text": [
      "true\n",
      "false\n"
     ]
    },
    {
     "data": {
      "text/plain": [
       "defined \u001b[32mfunction\u001b[39m \u001b[36misInList\u001b[39m\r\n",
       "\u001b[36misNumberInList\u001b[39m: \u001b[32mInt\u001b[39m => \u001b[32mBoolean\u001b[39m = ammonite.$sess.cmd1$Helper$$Lambda$2147/0x00000008017c8208@367e2247"
      ]
     },
     "execution_count": 2,
     "metadata": {},
     "output_type": "execute_result"
    }
   ],
   "source": [
    "//Exo-2 Reponses\n",
    "\n",
    "def isInList(list: List[Int]): Int => Boolean = {\n",
    "  num => list.contains(num)\n",
    "}\n",
    "\n",
    "val isNumberInList = isInList(List(1, 2, 3, 4, 5))\n",
    "println(isNumberInList(3)) // affiche true\n",
    "println(isNumberInList(6)) // affiche false\n"
   ]
  },
  {
   "attachments": {},
   "cell_type": "markdown",
   "metadata": {},
   "source": [
    "* **Exercice 3 :**\n",
    "Écrire une fonction qui prend une liste de chaînes et renvoie une fonction qui prend une chaîne et renvoie vrai si la chaîne est dans la liste et faux sinon. Utilisez une clôture pour stocker la liste de chaînes. Assurez vous que la fonction renvoyée est pure et qu'elle ne modifie pas la liste d'entrée."
   ]
  },
  {
   "cell_type": "code",
   "execution_count": 3,
   "metadata": {},
   "outputs": [
    {
     "name": "stdout",
     "output_type": "stream",
     "text": [
      "true\n",
      "false\n"
     ]
    },
    {
     "data": {
      "text/plain": [
       "defined \u001b[32mfunction\u001b[39m \u001b[36misInStringList\u001b[39m\r\n",
       "\u001b[36misStringInList\u001b[39m: \u001b[32mString\u001b[39m => \u001b[32mBoolean\u001b[39m = ammonite.$sess.cmd2$Helper$$Lambda$2159/0x00000008017ca350@37cfe16b"
      ]
     },
     "execution_count": 3,
     "metadata": {},
     "output_type": "execute_result"
    }
   ],
   "source": [
    "//Exo-3 Reponses\n",
    "\n",
    "def isInStringList(list: List[String]): String => Boolean = {\n",
    "  str => list.contains(str)\n",
    "}\n",
    "\n",
    "val isStringInList = isInStringList(List(\"foo\", \"bar\", \"baz\"))\n",
    "println(isStringInList(\"bar\")) // affiche true\n",
    "println(isStringInList(\"qux\")) // affiche false\n"
   ]
  },
  {
   "cell_type": "code",
   "execution_count": null,
   "metadata": {},
   "outputs": [],
   "source": []
  }
 ],
 "metadata": {
  "kernelspec": {
   "display_name": "Scala",
   "language": "scala",
   "name": "scala"
  },
  "language_info": {
   "codemirror_mode": "text/x-scala",
   "file_extension": ".sc",
   "mimetype": "text/x-scala",
   "name": "scala",
   "nbconvert_exporter": "script",
   "version": "2.12.11"
  },
  "orig_nbformat": 4
 },
 "nbformat": 4,
 "nbformat_minor": 2
}
